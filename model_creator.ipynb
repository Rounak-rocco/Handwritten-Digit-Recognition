{
 "cells": [
  {
   "cell_type": "code",
   "execution_count": 11,
   "id": "dac31c87",
   "metadata": {},
   "outputs": [],
   "source": [
    "import numpy\n",
    "import tensorflow\n",
    "import keras\n",
    "from keras.datasets import mnist\n",
    "from keras.models import Sequential\n",
    "from keras.layers import Conv2D, MaxPooling2D, Dropout,Dense, Flatten\n",
    "from keras import backend as k"
   ]
  },
  {
   "cell_type": "code",
   "execution_count": 12,
   "id": "97cfde9c",
   "metadata": {},
   "outputs": [
    {
     "name": "stdout",
     "output_type": "stream",
     "text": [
      "Number of data on X-axis :  60000\n",
      "Sample image's resolution :  28  *  28\n",
      "Number of labels on Y-axis :  60000\n"
     ]
    }
   ],
   "source": [
    "(x_train, y_train), (x_test, y_test) = mnist.load_data()\n",
    "print(\"Number of data on X-axis : \", x_train.shape[0])\n",
    "print(\"Sample image's resolution : \", x_train.shape[1], \" * \", x_train.shape[2])\n",
    "print(\"Number of labels on Y-axis : \", y_train.shape[0])"
   ]
  },
  {
   "cell_type": "code",
   "execution_count": 13,
   "id": "f4c549dc",
   "metadata": {},
   "outputs": [
    {
     "name": "stdout",
     "output_type": "stream",
     "text": [
      "60000 train samples generated!\n",
      "10000 test samples generated!\n"
     ]
    }
   ],
   "source": [
    "x_train = x_train.reshape(x_train.shape[0], 28, 28, 1)\n",
    "x_test = x_test.reshape(x_test.shape[0], 28, 28, 1)\n",
    "y_train = keras.utils.to_categorical(y_train)\n",
    "y_test = keras.utils.to_categorical(y_test)\n",
    "x_train = x_train.astype('float32')\n",
    "x_test = x_test.astype('float32')\n",
    "x_train /= 255; x_test /= 255\n",
    "print(x_train.shape[0], 'train samples generated!')\n",
    "print(x_test.shape[0], 'test samples generated!')"
   ]
  },
  {
   "cell_type": "code",
   "execution_count": 14,
   "id": "6454cae8",
   "metadata": {},
   "outputs": [],
   "source": [
    "num_class = 10\n",
    "model = Sequential()\n",
    "model.add(Conv2D(32, kernel_size=(3, 3),activation='relu',input_shape=(28,28,1)))\n",
    "model.add(Conv2D(64, (3, 3), activation='relu'))\n",
    "model.add(MaxPooling2D(pool_size=(2, 2)))\n",
    "model.add(Dropout(0.25))\n",
    "model.add(Flatten())\n",
    "model.add(Dense(128, activation='relu'))\n",
    "model.add(Dropout(0.5))\n",
    "model.add(Dense(num_class, activation='softmax'))\n",
    "model.compile(loss=keras.losses.categorical_crossentropy,optimizer=keras.optimizers.Adadelta(),metrics=['accuracy'])"
   ]
  },
  {
   "cell_type": "code",
   "execution_count": 15,
   "id": "fc09cf16",
   "metadata": {
    "scrolled": true
   },
   "outputs": [
    {
     "name": "stdout",
     "output_type": "stream",
     "text": [
      "Train on 60000 samples, validate on 10000 samples\n",
      "Epoch 1/10\n",
      "60000/60000 [==============================] - 76s 1ms/step - loss: 0.5291 - accuracy: 0.8388 - val_loss: 0.1194 - val_accuracy: 0.9655\n",
      "Epoch 2/10\n",
      "60000/60000 [==============================] - 78s 1ms/step - loss: 0.1537 - accuracy: 0.9544 - val_loss: 0.0701 - val_accuracy: 0.9773\n",
      "Epoch 3/10\n",
      "60000/60000 [==============================] - 81s 1ms/step - loss: 0.1055 - accuracy: 0.9681 - val_loss: 0.0536 - val_accuracy: 0.9823\n",
      "Epoch 4/10\n",
      "60000/60000 [==============================] - 84s 1ms/step - loss: 0.0877 - accuracy: 0.9736 - val_loss: 0.0401 - val_accuracy: 0.9857\n",
      "Epoch 5/10\n",
      "60000/60000 [==============================] - 92s 2ms/step - loss: 0.0722 - accuracy: 0.9780 - val_loss: 0.0364 - val_accuracy: 0.9879\n",
      "Epoch 6/10\n",
      "60000/60000 [==============================] - 77s 1ms/step - loss: 0.0635 - accuracy: 0.9804 - val_loss: 0.0349 - val_accuracy: 0.9886\n",
      "Epoch 7/10\n",
      "60000/60000 [==============================] - 78s 1ms/step - loss: 0.0556 - accuracy: 0.9832 - val_loss: 0.0341 - val_accuracy: 0.9889\n",
      "Epoch 8/10\n",
      "60000/60000 [==============================] - 76s 1ms/step - loss: 0.0510 - accuracy: 0.9844 - val_loss: 0.0366 - val_accuracy: 0.9876\n",
      "Epoch 9/10\n",
      "60000/60000 [==============================] - 79s 1ms/step - loss: 0.0456 - accuracy: 0.9860 - val_loss: 0.0309 - val_accuracy: 0.9893\n",
      "Epoch 10/10\n",
      "60000/60000 [==============================] - 82s 1ms/step - loss: 0.0419 - accuracy: 0.9866 - val_loss: 0.0274 - val_accuracy: 0.9901\n",
      "__The model has been created & trained to perform__\n",
      "Saving the model as mnist_result.h5\n"
     ]
    }
   ],
   "source": [
    "product = model.fit(x_train, y_train,batch_size=500, epochs=10, verbose=1, validation_data=(x_test, y_test))\n",
    "print(\"__The model has been created & trained to perform__\")\n",
    "model.save('model.h5')\n",
    "print(\"Saving the model as model.h5\")"
   ]
  },
  {
   "cell_type": "code",
   "execution_count": 25,
   "id": "75904d25",
   "metadata": {},
   "outputs": [
    {
     "name": "stdout",
     "output_type": "stream",
     "text": [
      "Test loss: 0.0274\n",
      "Test accuracy: 99.01%\n"
     ]
    }
   ],
   "source": [
    "score = model.evaluate(x_test, y_test, verbose=0)\n",
    "print('Test loss:', format(score[0],'.4f'))\n",
    "print('Test accuracy:' + ' {0:.2f}%'.format(score[1]*100))"
   ]
  }
 ],
 "metadata": {
  "kernelspec": {
   "display_name": "Python 3",
   "language": "python",
   "name": "python3"
  },
  "language_info": {
   "codemirror_mode": {
    "name": "ipython",
    "version": 3
   },
   "file_extension": ".py",
   "mimetype": "text/x-python",
   "name": "python",
   "nbconvert_exporter": "python",
   "pygments_lexer": "ipython3",
   "version": "3.6.13"
  }
 },
 "nbformat": 4,
 "nbformat_minor": 5
}
